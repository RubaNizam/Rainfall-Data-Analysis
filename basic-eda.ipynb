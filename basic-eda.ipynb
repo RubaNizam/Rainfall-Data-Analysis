{
 "cells": [
  {
   "cell_type": "code",
   "execution_count": 1,
   "id": "involved-bahamas",
   "metadata": {
    "_cell_guid": "b1076dfc-b9ad-4769-8c92-a6c4dae69d19",
    "_uuid": "8f2839f25d086af736a60e9eeb907d3b93b6e0e5",
    "execution": {
     "iopub.execute_input": "2021-03-17T10:33:28.835412Z",
     "iopub.status.busy": "2021-03-17T10:33:28.834385Z",
     "iopub.status.idle": "2021-03-17T10:33:28.851584Z",
     "shell.execute_reply": "2021-03-17T10:33:28.850673Z"
    },
    "papermill": {
     "duration": 0.050437,
     "end_time": "2021-03-17T10:33:28.851790",
     "exception": false,
     "start_time": "2021-03-17T10:33:28.801353",
     "status": "completed"
    },
    "tags": []
   },
   "outputs": [
    {
     "name": "stdout",
     "output_type": "stream",
     "text": [
      "/kaggle/input/rainfall-in-pakistan/Rainfall_1901_2016_PAK.csv\n"
     ]
    }
   ],
   "source": [
    "# This Python 3 environment comes with many helpful analytics libraries installed\n",
    "# It is defined by the kaggle/python Docker image: https://github.com/kaggle/docker-python\n",
    "# For example, here's several helpful packages to load\n",
    "\n",
    "import numpy as np # linear algebra\n",
    "import pandas as pd # data processing, CSV file I/O (e.g. pd.read_csv)\n",
    "\n",
    "# Input data files are available in the read-only \"../input/\" directory\n",
    "# For example, running this (by clicking run or pressing Shift+Enter) will list all files under the input directory\n",
    "\n",
    "import os\n",
    "for dirname, _, filenames in os.walk('/kaggle/input'):\n",
    "    for filename in filenames:\n",
    "        print(os.path.join(dirname, filename))\n",
    "\n",
    "# You can write up to 20GB to the current directory (/kaggle/working/) that gets preserved as output when you create a version using \"Save & Run All\" \n",
    "# You can also write temporary files to /kaggle/temp/, but they won't be saved outside of the current session"
   ]
  },
  {
   "cell_type": "markdown",
   "id": "stuck-newport",
   "metadata": {
    "papermill": {
     "duration": 0.024201,
     "end_time": "2021-03-17T10:33:28.901334",
     "exception": false,
     "start_time": "2021-03-17T10:33:28.877133",
     "status": "completed"
    },
    "tags": []
   },
   "source": [
    "# Dependencies"
   ]
  },
  {
   "cell_type": "code",
   "execution_count": 2,
   "id": "corresponding-heath",
   "metadata": {
    "execution": {
     "iopub.execute_input": "2021-03-17T10:33:28.955525Z",
     "iopub.status.busy": "2021-03-17T10:33:28.954765Z",
     "iopub.status.idle": "2021-03-17T10:33:30.194475Z",
     "shell.execute_reply": "2021-03-17T10:33:30.193393Z"
    },
    "papermill": {
     "duration": 1.269652,
     "end_time": "2021-03-17T10:33:30.194654",
     "exception": false,
     "start_time": "2021-03-17T10:33:28.925002",
     "status": "completed"
    },
    "tags": []
   },
   "outputs": [],
   "source": [
    "import matplotlib.pyplot as plt\n",
    "import seaborn as sns"
   ]
  },
  {
   "cell_type": "markdown",
   "id": "assured-prague",
   "metadata": {
    "papermill": {
     "duration": 0.024778,
     "end_time": "2021-03-17T10:33:30.251255",
     "exception": false,
     "start_time": "2021-03-17T10:33:30.226477",
     "status": "completed"
    },
    "tags": []
   },
   "source": [
    "# Reading data"
   ]
  },
  {
   "cell_type": "code",
   "execution_count": 3,
   "id": "monetary-source",
   "metadata": {
    "execution": {
     "iopub.execute_input": "2021-03-17T10:33:30.307406Z",
     "iopub.status.busy": "2021-03-17T10:33:30.306502Z",
     "iopub.status.idle": "2021-03-17T10:33:30.354106Z",
     "shell.execute_reply": "2021-03-17T10:33:30.353360Z"
    },
    "papermill": {
     "duration": 0.078008,
     "end_time": "2021-03-17T10:33:30.354282",
     "exception": false,
     "start_time": "2021-03-17T10:33:30.276274",
     "status": "completed"
    },
    "tags": []
   },
   "outputs": [
    {
     "data": {
      "text/html": [
       "<div>\n",
       "<style scoped>\n",
       "    .dataframe tbody tr th:only-of-type {\n",
       "        vertical-align: middle;\n",
       "    }\n",
       "\n",
       "    .dataframe tbody tr th {\n",
       "        vertical-align: top;\n",
       "    }\n",
       "\n",
       "    .dataframe thead th {\n",
       "        text-align: right;\n",
       "    }\n",
       "</style>\n",
       "<table border=\"1\" class=\"dataframe\">\n",
       "  <thead>\n",
       "    <tr style=\"text-align: right;\">\n",
       "      <th></th>\n",
       "      <th>Rainfall - (MM)</th>\n",
       "      <th>Year</th>\n",
       "      <th>Month</th>\n",
       "    </tr>\n",
       "  </thead>\n",
       "  <tbody>\n",
       "    <tr>\n",
       "      <th>0</th>\n",
       "      <td>40.4258</td>\n",
       "      <td>1901</td>\n",
       "      <td>January</td>\n",
       "    </tr>\n",
       "    <tr>\n",
       "      <th>1</th>\n",
       "      <td>12.3022</td>\n",
       "      <td>1901</td>\n",
       "      <td>February</td>\n",
       "    </tr>\n",
       "    <tr>\n",
       "      <th>2</th>\n",
       "      <td>25.5119</td>\n",
       "      <td>1901</td>\n",
       "      <td>March</td>\n",
       "    </tr>\n",
       "    <tr>\n",
       "      <th>3</th>\n",
       "      <td>14.2942</td>\n",
       "      <td>1901</td>\n",
       "      <td>April</td>\n",
       "    </tr>\n",
       "    <tr>\n",
       "      <th>4</th>\n",
       "      <td>38.3046</td>\n",
       "      <td>1901</td>\n",
       "      <td>May</td>\n",
       "    </tr>\n",
       "  </tbody>\n",
       "</table>\n",
       "</div>"
      ],
      "text/plain": [
       "   Rainfall - (MM)   Year     Month\n",
       "0          40.4258   1901   January\n",
       "1          12.3022   1901  February\n",
       "2          25.5119   1901     March\n",
       "3          14.2942   1901     April\n",
       "4          38.3046   1901       May"
      ]
     },
     "execution_count": 3,
     "metadata": {},
     "output_type": "execute_result"
    }
   ],
   "source": [
    "df=pd.read_csv('../input/rainfall-in-pakistan/Rainfall_1901_2016_PAK.csv')\n",
    "df.head()"
   ]
  },
  {
   "cell_type": "markdown",
   "id": "elder-dispatch",
   "metadata": {
    "papermill": {
     "duration": 0.024334,
     "end_time": "2021-03-17T10:33:30.403095",
     "exception": false,
     "start_time": "2021-03-17T10:33:30.378761",
     "status": "completed"
    },
    "tags": []
   },
   "source": [
    "## Columns of dataframe\n",
    "**Note:** One thing to notice there's a space before Year column so let's rename that"
   ]
  },
  {
   "cell_type": "code",
   "execution_count": 4,
   "id": "fitted-relevance",
   "metadata": {
    "execution": {
     "iopub.execute_input": "2021-03-17T10:33:30.460710Z",
     "iopub.status.busy": "2021-03-17T10:33:30.460009Z",
     "iopub.status.idle": "2021-03-17T10:33:30.463436Z",
     "shell.execute_reply": "2021-03-17T10:33:30.463990Z"
    },
    "papermill": {
     "duration": 0.034695,
     "end_time": "2021-03-17T10:33:30.464172",
     "exception": false,
     "start_time": "2021-03-17T10:33:30.429477",
     "status": "completed"
    },
    "tags": []
   },
   "outputs": [
    {
     "data": {
      "text/plain": [
       "Index(['Rainfall - (MM)', ' Year', 'Month'], dtype='object')"
      ]
     },
     "execution_count": 4,
     "metadata": {},
     "output_type": "execute_result"
    }
   ],
   "source": [
    "df.columns"
   ]
  },
  {
   "cell_type": "code",
   "execution_count": 5,
   "id": "bacterial-neutral",
   "metadata": {
    "execution": {
     "iopub.execute_input": "2021-03-17T10:33:30.518739Z",
     "iopub.status.busy": "2021-03-17T10:33:30.518068Z",
     "iopub.status.idle": "2021-03-17T10:33:30.523671Z",
     "shell.execute_reply": "2021-03-17T10:33:30.524226Z"
    },
    "papermill": {
     "duration": 0.035834,
     "end_time": "2021-03-17T10:33:30.524443",
     "exception": false,
     "start_time": "2021-03-17T10:33:30.488609",
     "status": "completed"
    },
    "tags": []
   },
   "outputs": [],
   "source": [
    "# Renaming columns\n",
    "df.rename(columns={'Rainfall - (MM)':'rainfall-MM',' Year':'year','Month':'month'}, inplace=True)"
   ]
  },
  {
   "cell_type": "code",
   "execution_count": 6,
   "id": "center-formula",
   "metadata": {
    "execution": {
     "iopub.execute_input": "2021-03-17T10:33:30.591172Z",
     "iopub.status.busy": "2021-03-17T10:33:30.590144Z",
     "iopub.status.idle": "2021-03-17T10:33:30.595696Z",
     "shell.execute_reply": "2021-03-17T10:33:30.595158Z"
    },
    "papermill": {
     "duration": 0.045297,
     "end_time": "2021-03-17T10:33:30.595923",
     "exception": false,
     "start_time": "2021-03-17T10:33:30.550626",
     "status": "completed"
    },
    "tags": []
   },
   "outputs": [
    {
     "data": {
      "text/html": [
       "<div>\n",
       "<style scoped>\n",
       "    .dataframe tbody tr th:only-of-type {\n",
       "        vertical-align: middle;\n",
       "    }\n",
       "\n",
       "    .dataframe tbody tr th {\n",
       "        vertical-align: top;\n",
       "    }\n",
       "\n",
       "    .dataframe thead th {\n",
       "        text-align: right;\n",
       "    }\n",
       "</style>\n",
       "<table border=\"1\" class=\"dataframe\">\n",
       "  <thead>\n",
       "    <tr style=\"text-align: right;\">\n",
       "      <th></th>\n",
       "      <th>rainfall-MM</th>\n",
       "      <th>year</th>\n",
       "      <th>month</th>\n",
       "    </tr>\n",
       "  </thead>\n",
       "  <tbody>\n",
       "    <tr>\n",
       "      <th>0</th>\n",
       "      <td>40.4258</td>\n",
       "      <td>1901</td>\n",
       "      <td>January</td>\n",
       "    </tr>\n",
       "    <tr>\n",
       "      <th>1</th>\n",
       "      <td>12.3022</td>\n",
       "      <td>1901</td>\n",
       "      <td>February</td>\n",
       "    </tr>\n",
       "    <tr>\n",
       "      <th>2</th>\n",
       "      <td>25.5119</td>\n",
       "      <td>1901</td>\n",
       "      <td>March</td>\n",
       "    </tr>\n",
       "    <tr>\n",
       "      <th>3</th>\n",
       "      <td>14.2942</td>\n",
       "      <td>1901</td>\n",
       "      <td>April</td>\n",
       "    </tr>\n",
       "    <tr>\n",
       "      <th>4</th>\n",
       "      <td>38.3046</td>\n",
       "      <td>1901</td>\n",
       "      <td>May</td>\n",
       "    </tr>\n",
       "  </tbody>\n",
       "</table>\n",
       "</div>"
      ],
      "text/plain": [
       "   rainfall-MM  year     month\n",
       "0      40.4258  1901   January\n",
       "1      12.3022  1901  February\n",
       "2      25.5119  1901     March\n",
       "3      14.2942  1901     April\n",
       "4      38.3046  1901       May"
      ]
     },
     "execution_count": 6,
     "metadata": {},
     "output_type": "execute_result"
    }
   ],
   "source": [
    "df.head()"
   ]
  },
  {
   "cell_type": "code",
   "execution_count": 7,
   "id": "published-remedy",
   "metadata": {
    "execution": {
     "iopub.execute_input": "2021-03-17T10:33:30.650774Z",
     "iopub.status.busy": "2021-03-17T10:33:30.649938Z",
     "iopub.status.idle": "2021-03-17T10:33:30.655382Z",
     "shell.execute_reply": "2021-03-17T10:33:30.656049Z"
    },
    "papermill": {
     "duration": 0.035413,
     "end_time": "2021-03-17T10:33:30.656234",
     "exception": false,
     "start_time": "2021-03-17T10:33:30.620821",
     "status": "completed"
    },
    "tags": []
   },
   "outputs": [
    {
     "data": {
      "text/plain": [
       "Index(['rainfall-MM', 'year', 'month'], dtype='object')"
      ]
     },
     "execution_count": 7,
     "metadata": {},
     "output_type": "execute_result"
    }
   ],
   "source": [
    "df.columns"
   ]
  },
  {
   "cell_type": "code",
   "execution_count": 8,
   "id": "heated-telescope",
   "metadata": {
    "execution": {
     "iopub.execute_input": "2021-03-17T10:33:30.716175Z",
     "iopub.status.busy": "2021-03-17T10:33:30.715366Z",
     "iopub.status.idle": "2021-03-17T10:33:30.723092Z",
     "shell.execute_reply": "2021-03-17T10:33:30.723668Z"
    },
    "papermill": {
     "duration": 0.040451,
     "end_time": "2021-03-17T10:33:30.723846",
     "exception": false,
     "start_time": "2021-03-17T10:33:30.683395",
     "status": "completed"
    },
    "tags": []
   },
   "outputs": [
    {
     "data": {
      "text/plain": [
       "rainfall-MM    0\n",
       "year           0\n",
       "month          0\n",
       "dtype: int64"
      ]
     },
     "execution_count": 8,
     "metadata": {},
     "output_type": "execute_result"
    }
   ],
   "source": [
    "df.isna().sum()"
   ]
  },
  {
   "cell_type": "markdown",
   "id": "distant-eleven",
   "metadata": {
    "papermill": {
     "duration": 0.025539,
     "end_time": "2021-03-17T10:33:30.777809",
     "exception": false,
     "start_time": "2021-03-17T10:33:30.752270",
     "status": "completed"
    },
    "tags": []
   },
   "source": [
    "Unique number of years"
   ]
  },
  {
   "cell_type": "code",
   "execution_count": 9,
   "id": "pleasant-civilian",
   "metadata": {
    "execution": {
     "iopub.execute_input": "2021-03-17T10:33:30.836838Z",
     "iopub.status.busy": "2021-03-17T10:33:30.836141Z",
     "iopub.status.idle": "2021-03-17T10:33:30.846769Z",
     "shell.execute_reply": "2021-03-17T10:33:30.846083Z"
    },
    "papermill": {
     "duration": 0.041304,
     "end_time": "2021-03-17T10:33:30.847050",
     "exception": false,
     "start_time": "2021-03-17T10:33:30.805746",
     "status": "completed"
    },
    "tags": []
   },
   "outputs": [
    {
     "data": {
      "text/plain": [
       "116"
      ]
     },
     "execution_count": 9,
     "metadata": {},
     "output_type": "execute_result"
    }
   ],
   "source": [
    "df['year'].nunique()"
   ]
  },
  {
   "cell_type": "markdown",
   "id": "administrative-royal",
   "metadata": {
    "papermill": {
     "duration": 0.028174,
     "end_time": "2021-03-17T10:33:30.902587",
     "exception": false,
     "start_time": "2021-03-17T10:33:30.874413",
     "status": "completed"
    },
    "tags": []
   },
   "source": [
    "let's find those years"
   ]
  },
  {
   "cell_type": "code",
   "execution_count": 10,
   "id": "unknown-spirituality",
   "metadata": {
    "execution": {
     "iopub.execute_input": "2021-03-17T10:33:30.965836Z",
     "iopub.status.busy": "2021-03-17T10:33:30.964896Z",
     "iopub.status.idle": "2021-03-17T10:33:30.968274Z",
     "shell.execute_reply": "2021-03-17T10:33:30.968713Z"
    },
    "papermill": {
     "duration": 0.038896,
     "end_time": "2021-03-17T10:33:30.968903",
     "exception": false,
     "start_time": "2021-03-17T10:33:30.930007",
     "status": "completed"
    },
    "tags": []
   },
   "outputs": [
    {
     "data": {
      "text/plain": [
       "array([1901, 1902, 1903, 1904, 1905, 1906, 1907, 1908, 1909, 1910, 1911,\n",
       "       1912, 1913, 1914, 1915, 1916, 1917, 1918, 1919, 1920, 1921, 1922,\n",
       "       1923, 1924, 1925, 1926, 1927, 1928, 1929, 1930, 1931, 1932, 1933,\n",
       "       1934, 1935, 1936, 1937, 1938, 1939, 1940, 1941, 1942, 1943, 1944,\n",
       "       1945, 1946, 1947, 1948, 1949, 1950, 1951, 1952, 1953, 1954, 1955,\n",
       "       1956, 1957, 1958, 1959, 1960, 1961, 1962, 1963, 1964, 1965, 1966,\n",
       "       1967, 1968, 1969, 1970, 1971, 1972, 1973, 1974, 1975, 1976, 1977,\n",
       "       1978, 1979, 1980, 1981, 1982, 1983, 1984, 1985, 1986, 1987, 1988,\n",
       "       1989, 1990, 1991, 1992, 1993, 1994, 1995, 1996, 1997, 1998, 1999,\n",
       "       2000, 2001, 2002, 2003, 2004, 2005, 2006, 2007, 2008, 2009, 2010,\n",
       "       2011, 2012, 2013, 2014, 2015, 2016])"
      ]
     },
     "execution_count": 10,
     "metadata": {},
     "output_type": "execute_result"
    }
   ],
   "source": [
    "df['year'].unique()"
   ]
  },
  {
   "cell_type": "code",
   "execution_count": 11,
   "id": "instructional-elimination",
   "metadata": {
    "execution": {
     "iopub.execute_input": "2021-03-17T10:33:31.029017Z",
     "iopub.status.busy": "2021-03-17T10:33:31.028324Z",
     "iopub.status.idle": "2021-03-17T10:33:31.261583Z",
     "shell.execute_reply": "2021-03-17T10:33:31.262146Z"
    },
    "papermill": {
     "duration": 0.266857,
     "end_time": "2021-03-17T10:33:31.262324",
     "exception": false,
     "start_time": "2021-03-17T10:33:30.995467",
     "status": "completed"
    },
    "tags": []
   },
   "outputs": [
    {
     "data": {
      "image/png": "[encoded data removed]",
      "text/plain": [
       "<Figure size 1008x576 with 1 Axes>"
      ]
     },
     "metadata": {
      "needs_background": "light"
     },
     "output_type": "display_data"
    }
   ],
   "source": [
    "plt.figure(figsize=(14,8))\n",
    "plt.plot(df.groupby(['year']).mean())\n",
    "plt.xlabel('years')\n",
    "plt.ylabel('average rainfall')\n",
    "plt.show()"
   ]
  },
  {
   "cell_type": "markdown",
   "id": "municipal-trade",
   "metadata": {
    "papermill": {
     "duration": 0.029041,
     "end_time": "2021-03-17T10:33:31.321475",
     "exception": false,
     "start_time": "2021-03-17T10:33:31.292434",
     "status": "completed"
    },
    "tags": []
   },
   "source": [
    "Calculate mean rainfall of year"
   ]
  },
  {
   "cell_type": "code",
   "execution_count": 12,
   "id": "directed-suggestion",
   "metadata": {
    "execution": {
     "iopub.execute_input": "2021-03-17T10:33:31.387110Z",
     "iopub.status.busy": "2021-03-17T10:33:31.386217Z",
     "iopub.status.idle": "2021-03-17T10:33:31.411629Z",
     "shell.execute_reply": "2021-03-17T10:33:31.411035Z"
    },
    "papermill": {
     "duration": 0.059452,
     "end_time": "2021-03-17T10:33:31.411771",
     "exception": false,
     "start_time": "2021-03-17T10:33:31.352319",
     "status": "completed"
    },
    "tags": []
   },
   "outputs": [
    {
     "data": {
      "text/plain": [
       "23.913654999999995"
      ]
     },
     "execution_count": 12,
     "metadata": {},
     "output_type": "execute_result"
    }
   ],
   "source": [
    "df[df['year']==2016].mean()['rainfall-MM']"
   ]
  },
  {
   "cell_type": "markdown",
   "id": "together-idaho",
   "metadata": {
    "papermill": {
     "duration": 0.031377,
     "end_time": "2021-03-17T10:33:31.475079",
     "exception": false,
     "start_time": "2021-03-17T10:33:31.443702",
     "status": "completed"
    },
    "tags": []
   },
   "source": [
    "## Let's find average rainfall across months"
   ]
  },
  {
   "cell_type": "markdown",
   "id": "patient-december",
   "metadata": {
    "papermill": {
     "duration": 0.030049,
     "end_time": "2021-03-17T10:33:31.535320",
     "exception": false,
     "start_time": "2021-03-17T10:33:31.505271",
     "status": "completed"
    },
    "tags": []
   },
   "source": [
    "df['quarter'] = pd.PeriodIndex(df.Month, freq='Q')"
   ]
  },
  {
   "cell_type": "code",
   "execution_count": 13,
   "id": "grateful-confusion",
   "metadata": {
    "execution": {
     "iopub.execute_input": "2021-03-17T10:33:31.609909Z",
     "iopub.status.busy": "2021-03-17T10:33:31.609218Z",
     "iopub.status.idle": "2021-03-17T10:33:31.612804Z",
     "shell.execute_reply": "2021-03-17T10:33:31.612196Z"
    },
    "papermill": {
     "duration": 0.044669,
     "end_time": "2021-03-17T10:33:31.613010",
     "exception": false,
     "start_time": "2021-03-17T10:33:31.568341",
     "status": "completed"
    },
    "tags": []
   },
   "outputs": [],
   "source": [
    "avg_rainfall_by_month=df.groupby(df.month)['rainfall-MM'].mean()"
   ]
  },
  {
   "cell_type": "markdown",
   "id": "overall-header",
   "metadata": {
    "papermill": {
     "duration": 0.032344,
     "end_time": "2021-03-17T10:33:31.676446",
     "exception": false,
     "start_time": "2021-03-17T10:33:31.644102",
     "status": "completed"
    },
    "tags": []
   },
   "source": [
    "So the top performing month is July unexpected one :D"
   ]
  },
  {
   "cell_type": "code",
   "execution_count": 14,
   "id": "thousand-preserve",
   "metadata": {
    "execution": {
     "iopub.execute_input": "2021-03-17T10:33:31.771491Z",
     "iopub.status.busy": "2021-03-17T10:33:31.768672Z",
     "iopub.status.idle": "2021-03-17T10:33:31.968161Z",
     "shell.execute_reply": "2021-03-17T10:33:31.967428Z"
    },
    "papermill": {
     "duration": 0.258478,
     "end_time": "2021-03-17T10:33:31.968334",
     "exception": false,
     "start_time": "2021-03-17T10:33:31.709856",
     "status": "completed"
    },
    "tags": []
   },
   "outputs": [
    {
     "data": {
      "image/png": "[encoded data removed]",
      "text/plain": [
       "<Figure size 1008x576 with 1 Axes>"
      ]
     },
     "metadata": {
      "needs_background": "light"
     },
     "output_type": "display_data"
    }
   ],
   "source": [
    "plt.figure(figsize=(14,8))\n",
    "plt.barh(avg_rainfall_by_month.index,avg_rainfall_by_month)\n",
    "plt.show()"
   ]
  },
  {
   "cell_type": "code",
   "execution_count": 15,
   "id": "joint-agent",
   "metadata": {
    "execution": {
     "iopub.execute_input": "2021-03-17T10:33:32.044334Z",
     "iopub.status.busy": "2021-03-17T10:33:32.043514Z",
     "iopub.status.idle": "2021-03-17T10:33:32.046937Z",
     "shell.execute_reply": "2021-03-17T10:33:32.046268Z"
    },
    "papermill": {
     "duration": 0.044727,
     "end_time": "2021-03-17T10:33:32.047144",
     "exception": false,
     "start_time": "2021-03-17T10:33:32.002417",
     "status": "completed"
    },
    "tags": []
   },
   "outputs": [],
   "source": [
    "avg_rainfall_across_years=df.groupby(df.year)['rainfall-MM'].mean()"
   ]
  },
  {
   "cell_type": "code",
   "execution_count": 16,
   "id": "modified-state",
   "metadata": {
    "execution": {
     "iopub.execute_input": "2021-03-17T10:33:32.153788Z",
     "iopub.status.busy": "2021-03-17T10:33:32.138162Z",
     "iopub.status.idle": "2021-03-17T10:33:32.530442Z",
     "shell.execute_reply": "2021-03-17T10:33:32.529714Z"
    },
    "papermill": {
     "duration": 0.449391,
     "end_time": "2021-03-17T10:33:32.530610",
     "exception": false,
     "start_time": "2021-03-17T10:33:32.081219",
     "status": "completed"
    },
    "tags": []
   },
   "outputs": [
    {
     "data": {
      "image/png": "[encoded data removed]",
      "text/plain": [
       "<Figure size 1008x576 with 1 Axes>"
      ]
     },
     "metadata": {
      "needs_background": "light"
     },
     "output_type": "display_data"
    }
   ],
   "source": [
    "\n",
    "plt.figure(figsize=(14,8))\n",
    "plt.barh(avg_rainfall_across_years.index,avg_rainfall_across_years)\n",
    "plt.show()"
   ]
  },
  {
   "cell_type": "markdown",
   "id": "measured-spine",
   "metadata": {
    "papermill": {
     "duration": 0.037141,
     "end_time": "2021-03-17T10:33:32.601881",
     "exception": false,
     "start_time": "2021-03-17T10:33:32.564740",
     "status": "completed"
    },
    "tags": []
   },
   "source": [
    "Let's sort the values to better estimate the top performer year"
   ]
  },
  {
   "cell_type": "code",
   "execution_count": 17,
   "id": "sustainable-nitrogen",
   "metadata": {
    "execution": {
     "iopub.execute_input": "2021-03-17T10:33:32.681922Z",
     "iopub.status.busy": "2021-03-17T10:33:32.678279Z",
     "iopub.status.idle": "2021-03-17T10:33:32.687981Z",
     "shell.execute_reply": "2021-03-17T10:33:32.687371Z"
    },
    "papermill": {
     "duration": 0.050619,
     "end_time": "2021-03-17T10:33:32.688140",
     "exception": false,
     "start_time": "2021-03-17T10:33:32.637521",
     "status": "completed"
    },
    "tags": []
   },
   "outputs": [
    {
     "data": {
      "text/plain": [
       "year\n",
       "1944    41.197529\n",
       "1956    35.999497\n",
       "1994    35.272982\n",
       "1942    34.558610\n",
       "1959    33.684169\n",
       "          ...    \n",
       "1920    17.075132\n",
       "1971    17.028849\n",
       "1918    16.945073\n",
       "2000    15.983080\n",
       "1902    14.635436\n",
       "Name: rainfall-MM, Length: 116, dtype: float64"
      ]
     },
     "execution_count": 17,
     "metadata": {},
     "output_type": "execute_result"
    }
   ],
   "source": [
    "avg_rainfall_across_years.sort_values(ascending=False)"
   ]
  },
  {
   "cell_type": "markdown",
   "id": "according-county",
   "metadata": {
    "papermill": {
     "duration": 0.035157,
     "end_time": "2021-03-17T10:33:32.758554",
     "exception": false,
     "start_time": "2021-03-17T10:33:32.723397",
     "status": "completed"
    },
    "tags": []
   },
   "source": [
    "## Now let's check it after 2000"
   ]
  },
  {
   "cell_type": "code",
   "execution_count": 18,
   "id": "rolled-terrorist",
   "metadata": {
    "execution": {
     "iopub.execute_input": "2021-03-17T10:33:32.835502Z",
     "iopub.status.busy": "2021-03-17T10:33:32.834554Z",
     "iopub.status.idle": "2021-03-17T10:33:32.838679Z",
     "shell.execute_reply": "2021-03-17T10:33:32.837996Z"
    },
    "papermill": {
     "duration": 0.044872,
     "end_time": "2021-03-17T10:33:32.838826",
     "exception": false,
     "start_time": "2021-03-17T10:33:32.793954",
     "status": "completed"
    },
    "tags": []
   },
   "outputs": [],
   "source": [
    "#dataframe copy\n",
    "df_after_2k=df.copy()"
   ]
  },
  {
   "cell_type": "code",
   "execution_count": 19,
   "id": "rational-swift",
   "metadata": {
    "execution": {
     "iopub.execute_input": "2021-03-17T10:33:32.923373Z",
     "iopub.status.busy": "2021-03-17T10:33:32.922313Z",
     "iopub.status.idle": "2021-03-17T10:33:32.928518Z",
     "shell.execute_reply": "2021-03-17T10:33:32.927891Z"
    },
    "papermill": {
     "duration": 0.053801,
     "end_time": "2021-03-17T10:33:32.928670",
     "exception": false,
     "start_time": "2021-03-17T10:33:32.874869",
     "status": "completed"
    },
    "tags": []
   },
   "outputs": [
    {
     "data": {
      "text/html": [
       "<div>\n",
       "<style scoped>\n",
       "    .dataframe tbody tr th:only-of-type {\n",
       "        vertical-align: middle;\n",
       "    }\n",
       "\n",
       "    .dataframe tbody tr th {\n",
       "        vertical-align: top;\n",
       "    }\n",
       "\n",
       "    .dataframe thead th {\n",
       "        text-align: right;\n",
       "    }\n",
       "</style>\n",
       "<table border=\"1\" class=\"dataframe\">\n",
       "  <thead>\n",
       "    <tr style=\"text-align: right;\">\n",
       "      <th></th>\n",
       "      <th>rainfall-MM</th>\n",
       "      <th>year</th>\n",
       "      <th>month</th>\n",
       "    </tr>\n",
       "  </thead>\n",
       "  <tbody>\n",
       "    <tr>\n",
       "      <th>1188</th>\n",
       "      <td>19.31100</td>\n",
       "      <td>2000</td>\n",
       "      <td>January</td>\n",
       "    </tr>\n",
       "    <tr>\n",
       "      <th>1189</th>\n",
       "      <td>14.23570</td>\n",
       "      <td>2000</td>\n",
       "      <td>February</td>\n",
       "    </tr>\n",
       "    <tr>\n",
       "      <th>1190</th>\n",
       "      <td>8.70368</td>\n",
       "      <td>2000</td>\n",
       "      <td>March</td>\n",
       "    </tr>\n",
       "    <tr>\n",
       "      <th>1191</th>\n",
       "      <td>3.96081</td>\n",
       "      <td>2000</td>\n",
       "      <td>April</td>\n",
       "    </tr>\n",
       "    <tr>\n",
       "      <th>1192</th>\n",
       "      <td>7.20656</td>\n",
       "      <td>2000</td>\n",
       "      <td>May</td>\n",
       "    </tr>\n",
       "  </tbody>\n",
       "</table>\n",
       "</div>"
      ],
      "text/plain": [
       "      rainfall-MM  year     month\n",
       "1188     19.31100  2000   January\n",
       "1189     14.23570  2000  February\n",
       "1190      8.70368  2000     March\n",
       "1191      3.96081  2000     April\n",
       "1192      7.20656  2000       May"
      ]
     },
     "execution_count": 19,
     "metadata": {},
     "output_type": "execute_result"
    }
   ],
   "source": [
    "#Filtering Years\n",
    "df_after_2k=df_after_2k[df_after_2k['year']>=2000]\n",
    "df_after_2k.head()"
   ]
  },
  {
   "cell_type": "code",
   "execution_count": 20,
   "id": "excited-gauge",
   "metadata": {
    "execution": {
     "iopub.execute_input": "2021-03-17T10:33:33.034875Z",
     "iopub.status.busy": "2021-03-17T10:33:33.029722Z",
     "iopub.status.idle": "2021-03-17T10:33:33.225636Z",
     "shell.execute_reply": "2021-03-17T10:33:33.224860Z"
    },
    "papermill": {
     "duration": 0.260562,
     "end_time": "2021-03-17T10:33:33.225816",
     "exception": false,
     "start_time": "2021-03-17T10:33:32.965254",
     "status": "completed"
    },
    "tags": []
   },
   "outputs": [
    {
     "data": {
      "image/png": "[encoded data removed]",
      "text/plain": [
       "<Figure size 1008x576 with 1 Axes>"
      ]
     },
     "metadata": {
      "needs_background": "light"
     },
     "output_type": "display_data"
    }
   ],
   "source": [
    "#plotting the data by taking mean across the year\n",
    "plt.figure(figsize=(14,8))\n",
    "plt.plot(df_after_2k.groupby(['year']).mean())\n",
    "plt.xlabel('years')\n",
    "plt.ylabel('average rainfall')\n",
    "plt.show()"
   ]
  },
  {
   "cell_type": "code",
   "execution_count": 21,
   "id": "forbidden-february",
   "metadata": {
    "execution": {
     "iopub.execute_input": "2021-03-17T10:33:33.311096Z",
     "iopub.status.busy": "2021-03-17T10:33:33.310409Z",
     "iopub.status.idle": "2021-03-17T10:33:33.313869Z",
     "shell.execute_reply": "2021-03-17T10:33:33.313300Z"
    },
    "papermill": {
     "duration": 0.047952,
     "end_time": "2021-03-17T10:33:33.314036",
     "exception": false,
     "start_time": "2021-03-17T10:33:33.266084",
     "status": "completed"
    },
    "tags": []
   },
   "outputs": [],
   "source": [
    "#calculating mean across months\n",
    "avg_rainfall_by_month_after_2k=df_after_2k.groupby(df_after_2k.month)['rainfall-MM'].mean()"
   ]
  },
  {
   "cell_type": "markdown",
   "id": "abstract-conspiracy",
   "metadata": {
    "papermill": {
     "duration": 0.040905,
     "end_time": "2021-03-17T10:33:33.393516",
     "exception": false,
     "start_time": "2021-03-17T10:33:33.352611",
     "status": "completed"
    },
    "tags": []
   },
   "source": [
    "# Leading Month\n",
    "August take a lead this time"
   ]
  },
  {
   "cell_type": "code",
   "execution_count": 22,
   "id": "textile-inflation",
   "metadata": {
    "execution": {
     "iopub.execute_input": "2021-03-17T10:33:33.485850Z",
     "iopub.status.busy": "2021-03-17T10:33:33.485147Z",
     "iopub.status.idle": "2021-03-17T10:33:33.694553Z",
     "shell.execute_reply": "2021-03-17T10:33:33.693939Z"
    },
    "papermill": {
     "duration": 0.262111,
     "end_time": "2021-03-17T10:33:33.694721",
     "exception": false,
     "start_time": "2021-03-17T10:33:33.432610",
     "status": "completed"
    },
    "tags": []
   },
   "outputs": [
    {
     "data": {
      "image/png": "[encoded data removed]",
      "text/plain": [
       "<Figure size 1008x576 with 1 Axes>"
      ]
     },
     "metadata": {
      "needs_background": "light"
     },
     "output_type": "display_data"
    }
   ],
   "source": [
    "#Plotting average rainfall in a month after 2020\n",
    "plt.figure(figsize=(14,8))\n",
    "plt.barh(avg_rainfall_by_month_after_2k.index,avg_rainfall_by_month_after_2k)\n",
    "plt.show()"
   ]
  },
  {
   "cell_type": "code",
   "execution_count": 23,
   "id": "funky-rwanda",
   "metadata": {
    "execution": {
     "iopub.execute_input": "2021-03-17T10:33:33.776955Z",
     "iopub.status.busy": "2021-03-17T10:33:33.776124Z",
     "iopub.status.idle": "2021-03-17T10:33:33.779168Z",
     "shell.execute_reply": "2021-03-17T10:33:33.779736Z"
    },
    "papermill": {
     "duration": 0.046832,
     "end_time": "2021-03-17T10:33:33.779924",
     "exception": false,
     "start_time": "2021-03-17T10:33:33.733092",
     "status": "completed"
    },
    "tags": []
   },
   "outputs": [],
   "source": [
    "avg_rainfall_across_years_after_2k=df_after_2k.groupby(df_after_2k.year)['rainfall-MM'].mean()"
   ]
  },
  {
   "cell_type": "code",
   "execution_count": 24,
   "id": "dutch-reputation",
   "metadata": {
    "execution": {
     "iopub.execute_input": "2021-03-17T10:33:33.865160Z",
     "iopub.status.busy": "2021-03-17T10:33:33.863860Z",
     "iopub.status.idle": "2021-03-17T10:33:33.868859Z",
     "shell.execute_reply": "2021-03-17T10:33:33.868217Z"
    },
    "papermill": {
     "duration": 0.050826,
     "end_time": "2021-03-17T10:33:33.869029",
     "exception": false,
     "start_time": "2021-03-17T10:33:33.818203",
     "status": "completed"
    },
    "tags": []
   },
   "outputs": [
    {
     "data": {
      "text/plain": [
       "year\n",
       "2000    15.983080\n",
       "2001    19.488182\n",
       "2002    17.455713\n",
       "2003    32.173924\n",
       "2004    21.477698\n",
       "2005    26.974240\n",
       "2006    30.470729\n",
       "2007    26.539996\n",
       "2008    28.102989\n",
       "2009    23.550433\n",
       "2010    32.079900\n",
       "2011    26.790030\n",
       "2012    22.835234\n",
       "2013    29.153537\n",
       "2014    22.957235\n",
       "2015    33.140839\n",
       "2016    23.913655\n",
       "Name: rainfall-MM, dtype: float64"
      ]
     },
     "execution_count": 24,
     "metadata": {},
     "output_type": "execute_result"
    }
   ],
   "source": [
    "avg_rainfall_across_years_after_2k"
   ]
  }
 ],
 "metadata": {
  "kernelspec": {
   "display_name": "Python 3",
   "language": "python",
   "name": "python3"
  },
  "language_info": {
   "codemirror_mode": {
    "name": "ipython",
    "version": 3
   },
   "file_extension": ".py",
   "mimetype": "text/x-python",
   "name": "python",
   "nbconvert_exporter": "python",
   "pygments_lexer": "ipython3",
   "version": "3.7.9"
  },
  "papermill": {
   "default_parameters": {},
   "duration": 12.938014,
   "end_time": "2021-03-17T10:33:34.616721",
   "environment_variables": {},
   "exception": null,
   "input_path": "__notebook__.ipynb",
   "output_path": "__notebook__.ipynb",
   "parameters": {},
   "start_time": "2021-03-17T10:33:21.678707",
   "version": "2.3.2"
  }
 },
 "nbformat": 4,
 "nbformat_minor": 5
}
